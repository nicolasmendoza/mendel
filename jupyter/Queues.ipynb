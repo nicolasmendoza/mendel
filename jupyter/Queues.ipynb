{
 "cells": [
  {
   "cell_type": "code",
   "execution_count": 11,
   "metadata": {},
   "outputs": [],
   "source": [
    "# ::dequeue  [HEAD] [TAIL]  ::enqueue\n",
    "# peek\n",
    "\n",
    "# the wrong way...\n",
    "class Queue:\n",
    "    def __init__(self, head=None):\n",
    "        self.storage = [head]\n",
    "\n",
    "    def enqueue(self, new_element):\n",
    "        self.storage.append(new_element)\n",
    "\n",
    "    def peek(self):\n",
    "        if len(self.storage):\n",
    "            return self.storage[0]\n",
    "        return None\n",
    "\n",
    "    def dequeue(self):\n",
    "        return self.storage.pop(0)\n",
    "    \n",
    "q = Queue(1)\n",
    "q.enqueue(2)\n",
    "q.enqueue(3)\n",
    "\n",
    "\n",
    "assert q.peek() is 1\n",
    "assert q.dequeue() is 1\n",
    "\n",
    "q.enqueue(4)\n",
    "assert q.dequeue() is 2\n",
    "\n",
    "assert q.dequeue() is 3\n",
    "\n",
    "assert q.dequeue() is 4\n",
    "\n",
    "q.enqueue(5)\n",
    "assert q.peek() is 5\n"
   ]
  },
  {
   "cell_type": "code",
   "execution_count": 13,
   "metadata": {},
   "outputs": [],
   "source": [
    "# good way...\n",
    "\n",
    "from collections import deque\n",
    "\n",
    "q = deque([1,])\n",
    "q.append(2)\n",
    "q.append(3)\n",
    "\n",
    "#peek\n",
    "assert q[0] is 1\n",
    "\n",
    "# dequeue\n",
    "assert q.popleft() is 1\n"
   ]
  },
  {
   "cell_type": "code",
   "execution_count": null,
   "metadata": {},
   "outputs": [],
   "source": []
  }
 ],
 "metadata": {
  "kernelspec": {
   "display_name": "Python 3",
   "language": "python",
   "name": "python3"
  },
  "language_info": {
   "codemirror_mode": {
    "name": "ipython",
    "version": 3
   },
   "file_extension": ".py",
   "mimetype": "text/x-python",
   "name": "python",
   "nbconvert_exporter": "python",
   "pygments_lexer": "ipython3",
   "version": "3.5.2"
  }
 },
 "nbformat": 4,
 "nbformat_minor": 2
}
